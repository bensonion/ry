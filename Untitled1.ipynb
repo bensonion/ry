{
 "cells": [
  {
   "cell_type": "code",
   "execution_count": 25,
   "id": "cc953fe1-f833-4170-b980-b0a03bc420c5",
   "metadata": {},
   "outputs": [],
   "source": [
    "# Linear Algebra (scipy.linalg)\n",
    "import numpy as np\n",
    "\n"
   ]
  },
  {
   "cell_type": "code",
   "execution_count": 28,
   "id": "37988bc8-d428-49cb-b73e-3786f04b1744",
   "metadata": {},
   "outputs": [],
   "source": [
    "x= [1, 2, 3, 4]\n",
    "y= [2, 5, 8, 10]\n",
    "\n",
    "#(1) y = a0 + a1*x\n",
    "#(2) y = a0 + a1 * x + a2 * x**2\n",
    "#(3) y = a0 + a1 * x + a2 * x**2 + a3 * x**3\n",
    "#(4) y = a0 + a1 * x + a2 * x**2 + a3 * x**3 + a4 * x**4\n",
    "\n",
    "# a0, a1, ..., a4 =????\n"
   ]
  },
  {
   "cell_type": "code",
   "execution_count": 27,
   "id": "b420e78b-5b4a-4442-b2bf-2055810d0b67",
   "metadata": {},
   "outputs": [],
   "source": [
    "x= np.array(x)\n",
    "y= np.array(y)\n"
   ]
  },
  {
   "cell_type": "code",
   "execution_count": 30,
   "id": "fa52095e-3a95-47e7-a7a5-80a59ff323f5",
   "metadata": {},
   "outputs": [
    {
     "data": {
      "text/plain": [
       "array([[-1.11022302e-15],\n",
       "       [ 1.16666667e+00],\n",
       "       [ 1.00000000e+00],\n",
       "       [-1.66666667e-01]])"
      ]
     },
     "execution_count": 30,
     "metadata": {},
     "output_type": "execute_result"
    }
   ],
   "source": [
    "#(3)\n",
    "A= [[1,1,1,1],\n",
    "    [1,2,4,8],\n",
    "    [1,3,9,27],\n",
    "    [1,4,16,64]]\n",
    "b=  [[2],\n",
    "     [5],\n",
    "     [8],\n",
    "     [10]]\n",
    "\n",
    "a= np.linalg.solve(A,b)\n",
    "a"
   ]
  },
  {
   "cell_type": "code",
   "execution_count": 31,
   "id": "ed3a110e-cc99-449f-976b-a3afdd3bca48",
   "metadata": {},
   "outputs": [
    {
     "data": {
      "text/plain": [
       "(array([[ 2.],\n",
       "        [ 5.],\n",
       "        [ 8.],\n",
       "        [10.]]),\n",
       " array([[ 2],\n",
       "        [ 5],\n",
       "        [ 8],\n",
       "        [10]]))"
      ]
     },
     "execution_count": 31,
     "metadata": {},
     "output_type": "execute_result"
    }
   ],
   "source": [
    "# 驗算\n",
    "A= np.array(A)\n",
    "b= np.array(b)\n",
    "A@a, b, "
   ]
  },
  {
   "cell_type": "code",
   "execution_count": 32,
   "id": "93541756-7424-4110-affa-da1f5390250a",
   "metadata": {},
   "outputs": [
    {
     "data": {
      "text/plain": [
       "array([[ True],\n",
       "       [False],\n",
       "       [ True],\n",
       "       [ True]])"
      ]
     },
     "execution_count": 32,
     "metadata": {},
     "output_type": "execute_result"
    }
   ],
   "source": [
    "A@a == b "
   ]
  },
  {
   "cell_type": "code",
   "execution_count": 33,
   "id": "918b828e-7151-46be-b9f2-2ea13142ee21",
   "metadata": {},
   "outputs": [
    {
     "data": {
      "text/plain": [
       "array([[ True],\n",
       "       [ True],\n",
       "       [ True],\n",
       "       [ True]])"
      ]
     },
     "execution_count": 33,
     "metadata": {},
     "output_type": "execute_result"
    }
   ],
   "source": [
    "np.isclose(A@a, b)"
   ]
  },
  {
   "cell_type": "code",
   "execution_count": 63,
   "id": "a981a859-3735-4fef-ace8-679fd8396617",
   "metadata": {},
   "outputs": [
    {
     "name": "stderr",
     "output_type": "stream",
     "text": [
      "<ipython-input-63-ee088d0e28c1>:15: FutureWarning: `rcond` parameter will change to the default of machine precision times ``max(M, N)`` where M and N are the input matrix dimensions.\n",
      "To use the future default and silence this warning we advise to pass `rcond=None`, to keep using the old, explicitly pass `rcond=-1`.\n",
      "  a= np.linalg.lstsq(A,b)\n"
     ]
    },
    {
     "data": {
      "text/plain": [
       "array([[-0.5],\n",
       "       [ 2.7]])"
      ]
     },
     "execution_count": 63,
     "metadata": {},
     "output_type": "execute_result"
    }
   ],
   "source": [
    "#(1)\n",
    "A= [[1, 1], #1, 1, 1],\n",
    "    [1, 2], #4, 8, 16],\n",
    "    [1, 3], #9, 27, 81],\n",
    "    [1, 4], #16,64, 256]\n",
    "   ]\n",
    "b=  [[2],\n",
    "     [5],\n",
    "     [8],\n",
    "     [10]\n",
    "    ]\n",
    "\n",
    "#aa= np.linalg.solve(A,b)\n",
    "\n",
    "a= np.linalg.lstsq(A,b)\n",
    "\n",
    "a=a[0]\n",
    "a"
   ]
  },
  {
   "cell_type": "code",
   "execution_count": 64,
   "id": "1822faf0-0930-4e6e-8392-e9481e32dbe0",
   "metadata": {},
   "outputs": [
    {
     "data": {
      "text/plain": [
       "(array([[ 2.2],\n",
       "        [ 4.9],\n",
       "        [ 7.6],\n",
       "        [10.3]]),\n",
       " [[2], [5], [8], [10]])"
      ]
     },
     "execution_count": 64,
     "metadata": {},
     "output_type": "execute_result"
    }
   ],
   "source": [
    "A=np.array(A)\n",
    "A@a, b\n"
   ]
  },
  {
   "cell_type": "code",
   "execution_count": 100,
   "id": "e3cd5b84-b679-45e5-ae38-00c3fa1d36ef",
   "metadata": {},
   "outputs": [
    {
     "data": {
      "text/plain": [
       "array([-10.,  -9.,  -8.,  -7.,  -6.,  -5.,  -4.,  -3.,  -2.,  -1.,   0.,\n",
       "         1.,   2.,   3.,   4.,   5.,   6.,   7.,   8.,   9.,  10.])"
      ]
     },
     "execution_count": 100,
     "metadata": {},
     "output_type": "execute_result"
    }
   ],
   "source": [
    "#\n",
    "x= np.linspace(-10,10,21)\n",
    "x"
   ]
  },
  {
   "cell_type": "code",
   "execution_count": 119,
   "id": "b3c38861-0be9-48de-99de-22ef245871e5",
   "metadata": {},
   "outputs": [
    {
     "data": {
      "text/latex": [
       "$x \\mapsto \\text{1.0} + \\text{1.0}\\,x$"
      ],
      "text/plain": [
       "Polynomial([1., 1.], domain=[-1,  1], window=[-1,  1])"
      ]
     },
     "execution_count": 119,
     "metadata": {},
     "output_type": "execute_result"
    }
   ],
   "source": [
    "f= np.polynomial.Polynomial([1,1])\n",
    "f"
   ]
  },
  {
   "cell_type": "code",
   "execution_count": 120,
   "id": "dc05454d-9d18-4523-851d-492d3ba5e274",
   "metadata": {},
   "outputs": [
    {
     "data": {
      "text/plain": [
       "array([-9., -8., -7., -6., -5., -4., -3., -2., -1.,  0.,  1.,  2.,  3.,\n",
       "        4.,  5.,  6.,  7.,  8.,  9., 10., 11.])"
      ]
     },
     "execution_count": 120,
     "metadata": {},
     "output_type": "execute_result"
    }
   ],
   "source": [
    "f(x)"
   ]
  },
  {
   "cell_type": "code",
   "execution_count": 140,
   "id": "c972f398-6814-438b-af71-10b4fc136724",
   "metadata": {},
   "outputs": [
    {
     "data": {
      "image/png": "[encoded data removed]",
      "text/plain": [
       "<Figure size 432x288 with 1 Axes>"
      ]
     },
     "metadata": {
      "needs_background": "light"
     },
     "output_type": "display_data"
    }
   ],
   "source": [
    "import matplotlib.pyplot as pl\n",
    "y= f(x)  \n",
    "z= (np.random.random(x.size)-.5)*10\n",
    "q= y+z\n",
    "pl.plot(#x,y,'ro',\n",
    "        #x,z,'gx',\n",
    "        x,q,'bs'\n",
    "        )\n",
    "pl.grid()"
   ]
  },
  {
   "cell_type": "code",
   "execution_count": 142,
   "id": "efb8ce22-2054-4b9f-9274-6694905928c8",
   "metadata": {},
   "outputs": [
    {
     "data": {
      "text/plain": [
       "(array([-10.,  -9.,  -8.,  -7.,  -6.,  -5.,  -4.,  -3.,  -2.,  -1.,   0.,\n",
       "          1.,   2.,   3.,   4.,   5.,   6.,   7.,   8.,   9.,  10.]),\n",
       " array([-4.49288819, -7.07304978, -5.78017103, -9.04773039, -9.123948  ,\n",
       "        -3.57444445, -7.3771832 ,  2.70825021,  3.25844975, -1.8438338 ,\n",
       "         4.68427985,  6.64494106, -1.26208218,  7.37655949,  1.5396127 ,\n",
       "         8.35054992,  7.20229461,  9.20951401,  5.11198008, 12.24653731,\n",
       "         9.07710125]))"
      ]
     },
     "execution_count": 142,
     "metadata": {},
     "output_type": "execute_result"
    }
   ],
   "source": [
    "x,q"
   ]
  },
  {
   "cell_type": "code",
   "execution_count": 150,
   "id": "506912c1-8929-4520-9b88-db070895b238",
   "metadata": {},
   "outputs": [
    {
     "name": "stderr",
     "output_type": "stream",
     "text": [
      "<ipython-input-150-3627d4493438>:5: FutureWarning: `rcond` parameter will change to the default of machine precision times ``max(M, N)`` where M and N are the input matrix dimensions.\n",
      "To use the future default and silence this warning we advise to pass `rcond=None`, to keep using the old, explicitly pass `rcond=-1`.\n",
      "  a= np.linalg.lstsq(A,q)\n"
     ]
    },
    {
     "data": {
      "text/plain": [
       "array([1.32546377, 0.94963162])"
      ]
     },
     "execution_count": 150,
     "metadata": {},
     "output_type": "execute_result"
    }
   ],
   "source": [
    "A= x[:,None]\n",
    "A= A**[0,1]\n",
    "A\n",
    "\n",
    "a= np.linalg.lstsq(A,q)\n",
    "a= a[0]\n",
    "a"
   ]
  },
  {
   "cell_type": "code",
   "execution_count": 151,
   "id": "6dd13a46-4f4f-40a6-ae43-4d24bda0d3d2",
   "metadata": {},
   "outputs": [
    {
     "data": {
      "text/latex": [
       "$x \\mapsto \\text{1.3254637718631597} + \\text{0.9496316209010436}\\,x$"
      ],
      "text/plain": [
       "Polynomial([1.32546377, 0.94963162], domain=[-1,  1], window=[-1,  1])"
      ]
     },
     "execution_count": 151,
     "metadata": {},
     "output_type": "execute_result"
    }
   ],
   "source": [
    "f= np.polynomial.Polynomial(a)\n",
    "f"
   ]
  },
  {
   "cell_type": "code",
   "execution_count": 155,
   "id": "8c7b612f-c59d-46b4-a7d8-b592e027aea6",
   "metadata": {},
   "outputs": [
    {
     "data": {
      "image/png": "[encoded data removed]",
      "text/plain": [
       "<Figure size 432x288 with 1 Axes>"
      ]
     },
     "metadata": {
      "needs_background": "light"
     },
     "output_type": "display_data"
    }
   ],
   "source": [
    "pl.plot(x,q,'ro',x,f(x),'g')\n",
    "pl.grid()"
   ]
  },
  {
   "cell_type": "code",
   "execution_count": 156,
   "id": "b974cd85-ab16-4f0a-a13c-804f0e443cf1",
   "metadata": {},
   "outputs": [
    {
     "data": {
      "text/plain": [
       "array([-4.49288819, -7.07304978, -5.78017103, -9.04773039, -9.123948  ,\n",
       "       -3.57444445, -7.3771832 ,  2.70825021,  3.25844975, -1.8438338 ,\n",
       "        4.68427985,  6.64494106, -1.26208218,  7.37655949,  1.5396127 ,\n",
       "        8.35054992,  7.20229461,  9.20951401,  5.11198008, 12.24653731,\n",
       "        9.07710125])"
      ]
     },
     "execution_count": 156,
     "metadata": {},
     "output_type": "execute_result"
    }
   ],
   "source": []
  },
  {
   "cell_type": "code",
   "execution_count": null,
   "id": "a79d6df1-d294-436a-90b2-0790c147c600",
   "metadata": {},
   "outputs": [],
   "source": []
  }
 ],
 "metadata": {
  "kernelspec": {
   "display_name": "Python 3",
   "language": "python",
   "name": "python3"
  },
  "language_info": {
   "codemirror_mode": {
    "name": "ipython",
    "version": 3
   },
   "file_extension": ".py",
   "mimetype": "text/x-python",
   "name": "python",
   "nbconvert_exporter": "python",
   "pygments_lexer": "ipython3",
   "version": "3.8.8"
  }
 },
 "nbformat": 4,
 "nbformat_minor": 5
}
