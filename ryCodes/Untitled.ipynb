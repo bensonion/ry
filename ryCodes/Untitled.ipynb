{
 "cells": [
  {
   "cell_type": "markdown",
   "id": "67961912-baab-4f5a-b47c-8840134f3f17",
   "metadata": {},
   "source": [
    "Solve:\n",
    "\n",
    "1x -2y = 1\n",
    "\n",
    "2x +1y = 7\n"
   ]
  },
  {
   "cell_type": "code",
   "execution_count": 131,
   "id": "5fb93168-b963-419e-85a4-8bf54c73ca58",
   "metadata": {},
   "outputs": [],
   "source": [
    "import numpy as np\n"
   ]
  },
  {
   "cell_type": "code",
   "execution_count": 11,
   "id": "ad837852-28df-44da-b27f-5b45c5b8846c",
   "metadata": {},
   "outputs": [],
   "source": [
    "A= [[1,-2],\n",
    "    [2, 1]]\n",
    "\n",
    "b= [1, \n",
    "    7]\n"
   ]
  },
  {
   "cell_type": "code",
   "execution_count": 12,
   "id": "6047be2b-30f0-4d83-bef2-bf5e10444a14",
   "metadata": {},
   "outputs": [
    {
     "data": {
      "text/plain": [
       "array([[ 1, -2],\n",
       "       [ 2,  1]])"
      ]
     },
     "execution_count": 12,
     "metadata": {},
     "output_type": "execute_result"
    }
   ],
   "source": [
    "A= np.array(A)\n",
    "b= np.array(b)\n",
    "A"
   ]
  },
  {
   "cell_type": "code",
   "execution_count": 13,
   "id": "0781ab4e-5db3-4506-82c0-49b71771dce1",
   "metadata": {},
   "outputs": [
    {
     "data": {
      "text/plain": [
       "array([1, 7])"
      ]
     },
     "execution_count": 13,
     "metadata": {},
     "output_type": "execute_result"
    }
   ],
   "source": [
    "b"
   ]
  },
  {
   "cell_type": "code",
   "execution_count": 15,
   "id": "4875fca9-e23e-4386-97dd-f0b969ee0a98",
   "metadata": {},
   "outputs": [
    {
     "data": {
      "text/plain": [
       "array([3., 1.])"
      ]
     },
     "execution_count": 15,
     "metadata": {},
     "output_type": "execute_result"
    }
   ],
   "source": [
    "x= np.linalg.inv(A) @ b\n",
    "x"
   ]
  },
  {
   "cell_type": "code",
   "execution_count": 16,
   "id": "bfd7a40f-299f-4520-a5f8-c293fa97818d",
   "metadata": {},
   "outputs": [
    {
     "data": {
      "text/plain": [
       "array([1., 7.])"
      ]
     },
     "execution_count": 16,
     "metadata": {},
     "output_type": "execute_result"
    }
   ],
   "source": [
    "A@x"
   ]
  },
  {
   "cell_type": "code",
   "execution_count": 18,
   "id": "a9f3fbb2-4b6c-4c76-a758-3993231b2a7a",
   "metadata": {},
   "outputs": [
    {
     "data": {
      "text/plain": [
       "array([False, False])"
      ]
     },
     "execution_count": 18,
     "metadata": {},
     "output_type": "execute_result"
    }
   ],
   "source": [
    "A@x == b"
   ]
  },
  {
   "cell_type": "code",
   "execution_count": 17,
   "id": "43b65bce-3d79-4bb4-8dca-6e89d76b3681",
   "metadata": {},
   "outputs": [
    {
     "data": {
      "text/plain": [
       "array([ True,  True])"
      ]
     },
     "execution_count": 17,
     "metadata": {},
     "output_type": "execute_result"
    }
   ],
   "source": [
    "np.isclose(A@x, b)"
   ]
  },
  {
   "cell_type": "code",
   "execution_count": 20,
   "id": "e17e1f39-8956-4a6e-95e8-604cc4d974fe",
   "metadata": {},
   "outputs": [
    {
     "data": {
      "text/plain": [
       "array([3., 1.])"
      ]
     },
     "execution_count": 20,
     "metadata": {},
     "output_type": "execute_result"
    }
   ],
   "source": [
    "x= np.linalg.solve(A,b)\n",
    "x"
   ]
  },
  {
   "cell_type": "code",
   "execution_count": 23,
   "id": "5b133b8f-7f73-41d9-b0e4-ac3adfb21a24",
   "metadata": {
    "collapsed": true,
    "jupyter": {
     "outputs_hidden": true
    },
    "tags": []
   },
   "outputs": [
    {
     "data": {
      "text/plain": [
       "\u001b[1;31mSignature:\u001b[0m \u001b[0mnp\u001b[0m\u001b[1;33m.\u001b[0m\u001b[0mlinalg\u001b[0m\u001b[1;33m.\u001b[0m\u001b[0msolve\u001b[0m\u001b[1;33m(\u001b[0m\u001b[0ma\u001b[0m\u001b[1;33m,\u001b[0m \u001b[0mb\u001b[0m\u001b[1;33m)\u001b[0m\u001b[1;33m\u001b[0m\u001b[1;33m\u001b[0m\u001b[0m\n",
       "\u001b[1;31mDocstring:\u001b[0m\n",
       "Solve a linear matrix equation, or system of linear scalar equations.\n",
       "\n",
       "Computes the \"exact\" solution, `x`, of the well-determined, i.e., full\n",
       "rank, linear matrix equation `ax = b`.\n",
       "\n",
       "Parameters\n",
       "----------\n",
       "a : (..., M, M) array_like\n",
       "    Coefficient matrix.\n",
       "b : {(..., M,), (..., M, K)}, array_like\n",
       "    Ordinate or \"dependent variable\" values.\n",
       "\n",
       "Returns\n",
       "-------\n",
       "x : {(..., M,), (..., M, K)} ndarray\n",
       "    Solution to the system a x = b.  Returned shape is identical to `b`.\n",
       "\n",
       "Raises\n",
       "------\n",
       "LinAlgError\n",
       "    If `a` is singular or not square.\n",
       "\n",
       "See Also\n",
       "--------\n",
       "scipy.linalg.solve : Similar function in SciPy.\n",
       "\n",
       "Notes\n",
       "-----\n",
       "\n",
       ".. versionadded:: 1.8.0\n",
       "\n",
       "Broadcasting rules apply, see the `numpy.linalg` documentation for\n",
       "details.\n",
       "\n",
       "The solutions are computed using LAPACK routine ``_gesv``.\n",
       "\n",
       "`a` must be square and of full-rank, i.e., all rows (or, equivalently,\n",
       "columns) must be linearly independent; if either is not true, use\n",
       "`lstsq` for the least-squares best \"solution\" of the\n",
       "system/equation.\n",
       "\n",
       "References\n",
       "----------\n",
       ".. [1] G. Strang, *Linear Algebra and Its Applications*, 2nd Ed., Orlando,\n",
       "       FL, Academic Press, Inc., 1980, pg. 22.\n",
       "\n",
       "Examples\n",
       "--------\n",
       "Solve the system of equations ``x0 + 2 * x1 = 1`` and ``3 * x0 + 5 * x1 = 2``:\n",
       "\n",
       ">>> a = np.array([[1, 2], [3, 5]])\n",
       ">>> b = np.array([1, 2])\n",
       ">>> x = np.linalg.solve(a, b)\n",
       ">>> x\n",
       "array([-1.,  1.])\n",
       "\n",
       "Check that the solution is correct:\n",
       "\n",
       ">>> np.allclose(np.dot(a, x), b)\n",
       "True\n",
       "\u001b[1;31mFile:\u001b[0m      m:\\programdata\\anaconda3\\lib\\site-packages\\numpy\\linalg\\linalg.py\n",
       "\u001b[1;31mType:\u001b[0m      function\n"
      ]
     },
     "metadata": {},
     "output_type": "display_data"
    }
   ],
   "source": [
    "np.matmul?\n",
    "np.linalg.inv?\n",
    "np.linalg.solve?"
   ]
  },
  {
   "cell_type": "markdown",
   "id": "b0667297-ef43-4d49-8110-3b22482c8b75",
   "metadata": {},
   "source": [
    "\n",
    "# Exercise 001:\n",
    "\n",
    "- 自己出5題 多變數的線性方城組，逐一解答。\n",
    "- 方程組有可能無解或無限多組解，那時會如何？\n",
    "\n"
   ]
  },
  {
   "attachments": {
    "d2ebcd50-4e17-4339-82b7-cd6c6279d191.png": {
     "image/png": "[encoded data removed]"
    }
   },
   "cell_type": "markdown",
   "id": "f14b51ab-9f3f-41c4-94b9-cb16436d4c0b",
   "metadata": {},
   "source": [
    "![image.png](attachment:d2ebcd50-4e17-4339-82b7-cd6c6279d191.png)"
   ]
  },
  {
   "cell_type": "code",
   "execution_count": 33,
   "id": "08958866-6f42-4352-bb3e-3671cbe8a5e4",
   "metadata": {},
   "outputs": [
    {
     "data": {
      "text/plain": [
       "array([ 2., -1.,  1.])"
      ]
     },
     "execution_count": 33,
     "metadata": {},
     "output_type": "execute_result"
    }
   ],
   "source": [
    "A= [[2,2,-4],\n",
    "    [3,-9,-5],\n",
    "    [-2,-4,6]]\n",
    "\n",
    "b= [-2,10,6]\n",
    "\n",
    "x= np.linalg.solve(A, b)\n",
    "x\n",
    "    "
   ]
  },
  {
   "cell_type": "code",
   "execution_count": 38,
   "id": "2adfdaa8-ab42-46ac-9cd1-69690a24b862",
   "metadata": {},
   "outputs": [
    {
     "data": {
      "text/plain": [
       "array([ 2., -1.,  1.])"
      ]
     },
     "execution_count": 38,
     "metadata": {},
     "output_type": "execute_result"
    }
   ],
   "source": [
    "np.linalg.inv(A)@b"
   ]
  },
  {
   "cell_type": "code",
   "execution_count": 42,
   "id": "342210aa-c914-492e-804b-a84279a46151",
   "metadata": {},
   "outputs": [
    {
     "data": {
      "text/plain": [
       "array([[ 18,   2, -42],\n",
       "       [-11, 107,   3],\n",
       "       [-28,   8,  64]])"
      ]
     },
     "execution_count": 42,
     "metadata": {},
     "output_type": "execute_result"
    }
   ],
   "source": [
    "np.matmul(A,A)"
   ]
  },
  {
   "cell_type": "code",
   "execution_count": 44,
   "id": "02bdc86d-ad58-4480-b410-6ba088f48f17",
   "metadata": {},
   "outputs": [
    {
     "data": {
      "text/plain": [
       "array([[ 2,  2, -4],\n",
       "       [ 3, -9, -5],\n",
       "       [-2, -4,  6]])"
      ]
     },
     "execution_count": 44,
     "metadata": {},
     "output_type": "execute_result"
    }
   ],
   "source": [
    "A= np.array(A)\n",
    "A"
   ]
  },
  {
   "cell_type": "code",
   "execution_count": 46,
   "id": "5df0f2fc-cf18-4c74-90f8-3cca9623e218",
   "metadata": {},
   "outputs": [
    {
     "data": {
      "text/plain": [
       "\u001b[1;31mDocstring:\u001b[0m\n",
       "a.swapaxes(axis1, axis2)\n",
       "\n",
       "Return a view of the array with `axis1` and `axis2` interchanged.\n",
       "\n",
       "Refer to `numpy.swapaxes` for full documentation.\n",
       "\n",
       "See Also\n",
       "--------\n",
       "numpy.swapaxes : equivalent function\n",
       "\u001b[1;31mType:\u001b[0m      builtin_function_or_method\n"
      ]
     },
     "metadata": {},
     "output_type": "display_data"
    }
   ],
   "source": [
    "P= np.eye(3)\n"
   ]
  },
  {
   "cell_type": "code",
   "execution_count": 49,
   "id": "757812a3-ff7e-4887-adc8-0af843f2121e",
   "metadata": {},
   "outputs": [
    {
     "data": {
      "text/plain": [
       "array([[1, 2],\n",
       "       [3, 4]])"
      ]
     },
     "execution_count": 49,
     "metadata": {},
     "output_type": "execute_result"
    }
   ],
   "source": [
    "A= [[1,2],\n",
    "    [3,4]]\n",
    "A= np.array(A)\n",
    "A"
   ]
  },
  {
   "cell_type": "code",
   "execution_count": 50,
   "id": "4d9b4538-2d72-438a-a200-35dc63dfa556",
   "metadata": {},
   "outputs": [
    {
     "data": {
      "text/plain": [
       "array([[ 7, 10],\n",
       "       [15, 22]])"
      ]
     },
     "execution_count": 50,
     "metadata": {},
     "output_type": "execute_result"
    }
   ],
   "source": [
    "A@A"
   ]
  },
  {
   "cell_type": "code",
   "execution_count": 53,
   "id": "decc20dd-216c-4812-a534-7fa9661c632b",
   "metadata": {},
   "outputs": [
    {
     "data": {
      "text/plain": [
       "array([[-2. ,  1. ],\n",
       "       [ 1.5, -0.5]])"
      ]
     },
     "execution_count": 53,
     "metadata": {},
     "output_type": "execute_result"
    }
   ],
   "source": [
    "np.linalg.inv(A)"
   ]
  },
  {
   "cell_type": "code",
   "execution_count": 67,
   "id": "3f4be9f0-50d4-44f1-9694-0765ea117274",
   "metadata": {},
   "outputs": [
    {
     "data": {
      "text/plain": [
       "array([5, 6])"
      ]
     },
     "execution_count": 67,
     "metadata": {},
     "output_type": "execute_result"
    }
   ],
   "source": [
    "b= np.array([5,6])\n",
    "b"
   ]
  },
  {
   "cell_type": "code",
   "execution_count": 68,
   "id": "e738071f-d0c8-484f-82fc-b3c48275d42d",
   "metadata": {},
   "outputs": [
    {
     "data": {
      "text/plain": [
       "array([-4. ,  4.5])"
      ]
     },
     "execution_count": 68,
     "metadata": {},
     "output_type": "execute_result"
    }
   ],
   "source": [
    "np.linalg.solve(A,b)"
   ]
  },
  {
   "cell_type": "code",
   "execution_count": 69,
   "id": "cb7812a2-ddbb-4943-8099-3c26cbb95824",
   "metadata": {},
   "outputs": [
    {
     "data": {
      "text/plain": [
       "-2.0000000000000004"
      ]
     },
     "execution_count": 69,
     "metadata": {},
     "output_type": "execute_result"
    }
   ],
   "source": [
    "np.linalg.det(A)"
   ]
  },
  {
   "cell_type": "code",
   "execution_count": 70,
   "id": "d2818991-799c-4b4a-acfb-2335e030ae4d",
   "metadata": {},
   "outputs": [
    {
     "data": {
      "text/plain": [
       "array([[1, 2],\n",
       "       [3, 4]])"
      ]
     },
     "execution_count": 70,
     "metadata": {},
     "output_type": "execute_result"
    }
   ],
   "source": [
    "A"
   ]
  },
  {
   "cell_type": "code",
   "execution_count": 77,
   "id": "10a42482-fab2-4b02-8126-c0601241ae2a",
   "metadata": {},
   "outputs": [
    {
     "data": {
      "text/plain": [
       "\u001b[1;31mDocstring:\u001b[0m\n",
       "a.trace(offset=0, axis1=0, axis2=1, dtype=None, out=None)\n",
       "\n",
       "Return the sum along diagonals of the array.\n",
       "\n",
       "Refer to `numpy.trace` for full documentation.\n",
       "\n",
       "See Also\n",
       "--------\n",
       "numpy.trace : equivalent function\n",
       "\u001b[1;31mType:\u001b[0m      builtin_function_or_method\n"
      ]
     },
     "metadata": {},
     "output_type": "display_data"
    }
   ],
   "source": [
    "A.trace?"
   ]
  },
  {
   "cell_type": "markdown",
   "id": "1d7aaa47-2510-4332-80ec-0abbff7b9b3e",
   "metadata": {},
   "source": [
    "# Solving linear least-squares problems and pseudo-inverses\n",
    "- https://docs.scipy.org/doc/scipy/reference/tutorial/linalg.html\n"
   ]
  },
  {
   "cell_type": "code",
   "execution_count": 114,
   "id": "9a69d9ce-c0e9-47cc-b586-d9ca3d6e5c7a",
   "metadata": {},
   "outputs": [
    {
     "data": {
      "image/png": "[encoded data removed]",
      "text/plain": [
       "<Figure size 432x288 with 1 Axes>"
      ]
     },
     "metadata": {
      "needs_background": "light"
     },
     "output_type": "display_data"
    }
   ],
   "source": [
    "import numpy as np\n",
    "from scipy import linalg\n",
    "import matplotlib.pyplot as plt\n",
    "\n",
    "rng= np.random.default_rng()\n",
    "\n",
    "c1, c2= 5.0, 2.0\n",
    "\n",
    "i= np.r_[1:11]\n",
    "\n",
    "xi = 0.1*i\n",
    "yi = c1*np.exp(-xi) + c2*xi\n",
    "zi = yi + 0.05 * np.max(yi) * rng.standard_normal(len(yi))\n",
    "\n",
    "A = np.c_[np.exp(-xi)[:, np.newaxis], xi[:, np.newaxis]]\n",
    "c, resid, rank, sigma = linalg.lstsq(A, zi)\n",
    "\n",
    "xi2 = np.r_[0.1:1.0:100j]\n",
    "yi2 = c[0]*np.exp(-xi2) + c[1]*xi2\n",
    "\n",
    "plt.plot(xi,zi,'x',xi2,yi2)\n",
    "plt.axis([0,1.1,3.0,5.5])\n",
    "plt.xlabel('$x_i$')\n",
    "plt.title('Data fitting with linalg.lstsq')\n",
    "plt.grid()\n",
    "plt.show()\n"
   ]
  },
  {
   "cell_type": "code",
   "execution_count": 98,
   "id": "46ab7c1a-25fe-4c81-8e60-94317735c01d",
   "metadata": {
    "collapsed": true,
    "jupyter": {
     "outputs_hidden": true
    },
    "tags": []
   },
   "outputs": [
    {
     "data": {
      "text/plain": [
       "array([ 7.00429736e-01,  1.35018161e+00,  1.28620022e+00,  4.79569515e-01,\n",
       "       -1.06957860e+00, -9.59078834e-01,  1.46936656e+00, -7.79991704e-01,\n",
       "        7.54252088e-01, -7.93243575e-01, -9.60469422e-01, -1.32315110e+00,\n",
       "        9.95530212e-01,  1.10368675e+00,  1.47056723e+00,  1.16118278e+00,\n",
       "        4.99418155e-01,  1.25488721e-01, -1.70085052e+00, -1.36965100e+00,\n",
       "       -3.69929843e-01,  2.40655790e-01, -1.46355074e-01, -1.28460482e+00,\n",
       "       -7.71117526e-02, -1.12734290e+00, -8.35662611e-01,  6.88012846e-01,\n",
       "        9.66102865e-02, -1.00402706e+00,  1.20906111e+00, -7.01151394e-02,\n",
       "       -9.62765419e-01,  3.99567738e-01,  1.33907798e+00,  9.22358157e-01,\n",
       "       -6.49691926e-03, -4.55680333e-01,  1.60286382e+00,  9.48833720e-04,\n",
       "       -2.44058756e-01,  1.06201455e+00, -1.16808610e+00,  5.69913658e-01,\n",
       "       -1.78243125e-01,  1.55383300e-02, -6.43267704e-01,  7.23875036e-02,\n",
       "        4.61389944e-01, -9.32674668e-02, -5.34812559e-01,  4.71778466e-01,\n",
       "        9.14499538e-02,  1.03517478e+00,  2.17699258e-01, -2.70971200e-01,\n",
       "       -6.09574372e-01, -1.02683862e+00,  3.82407185e-01,  8.53143829e-01,\n",
       "       -6.30750802e-01,  4.98174769e-01, -1.92909779e-02,  6.45919788e-01,\n",
       "        2.21219925e+00,  1.10720020e+00,  4.01078486e-01,  1.03393240e+00,\n",
       "        6.24492592e-02, -1.71558613e+00, -7.21986032e-03,  4.84943298e-01,\n",
       "       -1.56870420e+00, -9.23165593e-01, -1.44770857e+00,  8.18620214e-01,\n",
       "        7.45146903e-01, -5.42252207e-01,  7.30316601e-01, -5.23774344e-01,\n",
       "        2.99791270e-01,  3.79447892e-01,  6.92817836e-01, -2.95527641e+00,\n",
       "        4.34326489e-01,  1.22844431e+00,  2.95227096e-01,  1.64092687e+00,\n",
       "       -1.09789547e+00, -7.20209219e-02,  1.14793138e+00, -5.86296692e-01,\n",
       "        2.15511039e-01, -3.08625230e+00, -5.26250260e-01,  2.68546543e-01,\n",
       "       -3.83624623e-01,  4.33058280e-02,  6.55531104e-01,  5.33592042e-01])"
      ]
     },
     "execution_count": 98,
     "metadata": {},
     "output_type": "execute_result"
    }
   ],
   "source": [
    "import numpy as np\n",
    "from scipy import linalg\n",
    "import matplotlib.pyplot as plt\n",
    "\n",
    "rng= np.random.default_rng()\n",
    "rng.standard_normal(100)\n"
   ]
  },
  {
   "cell_type": "code",
   "execution_count": null,
   "id": "3b22c511-811d-41fe-b885-09240f663aa4",
   "metadata": {},
   "outputs": [],
   "source": []
  },
  {
   "cell_type": "code",
   "execution_count": 115,
   "id": "b5ffb1b6-36ce-4271-910a-daf9dedd781c",
   "metadata": {},
   "outputs": [
    {
     "data": {
      "text/plain": [
       "array([ 1,  2,  3,  4,  5,  6,  7,  8,  9, 10])"
      ]
     },
     "execution_count": 115,
     "metadata": {},
     "output_type": "execute_result"
    }
   ],
   "source": [
    "c1, c2= 5.0, 2.0\n",
    "i= np.arange(1,11) #np.r_[1:11]\n",
    "i"
   ]
  },
  {
   "cell_type": "code",
   "execution_count": 117,
   "id": "7aa7c57d-8315-4301-ac14-b08a82d197c4",
   "metadata": {},
   "outputs": [
    {
     "data": {
      "text/plain": [
       "(array([0.1, 0.2, 0.3, 0.4, 0.5, 0.6, 0.7, 0.8, 0.9, 1. ]),\n",
       " array([4.72418709, 4.49365377, 4.3040911 , 4.15160023, 4.0326533 ,\n",
       "        3.94405818, 3.88292652, 3.84664482, 3.8328483 , 3.83939721]),\n",
       " array([4.50454504, 4.25601133, 4.88563644, 4.14236584, 4.33418676,\n",
       "        4.16350454, 4.04420918, 4.04125329, 3.83178297, 4.0249123 ]))"
      ]
     },
     "execution_count": 117,
     "metadata": {},
     "output_type": "execute_result"
    }
   ],
   "source": [
    "xi= 0.1*i\n",
    "yi= c1*np.exp(-xi) + c2*xi\n",
    "zi= yi + 0.05 * np.max(yi) * rng.standard_normal(len(yi))\n",
    "\n",
    "xi, yi, zi"
   ]
  },
  {
   "cell_type": "code",
   "execution_count": 118,
   "id": "201b37de-d173-4fc7-819b-ea1365071a1c",
   "metadata": {},
   "outputs": [
    {
     "data": {
      "text/plain": [
       "array([[0.90483742, 0.1       ],\n",
       "       [0.81873075, 0.2       ],\n",
       "       [0.74081822, 0.3       ],\n",
       "       [0.67032005, 0.4       ],\n",
       "       [0.60653066, 0.5       ],\n",
       "       [0.54881164, 0.6       ],\n",
       "       [0.4965853 , 0.7       ],\n",
       "       [0.44932896, 0.8       ],\n",
       "       [0.40656966, 0.9       ],\n",
       "       [0.36787944, 1.        ]])"
      ]
     },
     "execution_count": 118,
     "metadata": {},
     "output_type": "execute_result"
    }
   ],
   "source": [
    "A= np.c_[\n",
    "    np.exp(-xi)[:, np.newaxis], \n",
    "    xi[:, np.newaxis]]\n",
    "A"
   ]
  },
  {
   "cell_type": "code",
   "execution_count": null,
   "id": "f8b54d52-ec53-4ab1-93b5-a64cf8445977",
   "metadata": {},
   "outputs": [],
   "source": [
    "c, resid, rank, sigma = linalg.lstsq(A, zi)\n",
    "\n",
    "xi2 = np.r_[0.1:1.0:100j]\n",
    "yi2 = c[0]*np.exp(-xi2) + c[1]*xi2\n",
    "\n",
    "plt.plot(xi,zi,'x',xi2,yi2)\n",
    "plt.axis([0,1.1,3.0,5.5])\n",
    "plt.xlabel('$x_i$')\n",
    "plt.title('Data fitting with linalg.lstsq')\n",
    "plt.show()"
   ]
  },
  {
   "cell_type": "code",
   "execution_count": 119,
   "id": "da28ee3e-64c8-493d-a7e2-800de1e9f995",
   "metadata": {},
   "outputs": [
    {
     "data": {
      "text/plain": [
       "\u001b[1;31mSignature:\u001b[0m\n",
       "\u001b[0mlinalg\u001b[0m\u001b[1;33m.\u001b[0m\u001b[0mlstsq\u001b[0m\u001b[1;33m(\u001b[0m\u001b[1;33m\n",
       "\u001b[0m    \u001b[0ma\u001b[0m\u001b[1;33m,\u001b[0m\u001b[1;33m\n",
       "\u001b[0m    \u001b[0mb\u001b[0m\u001b[1;33m,\u001b[0m\u001b[1;33m\n",
       "\u001b[0m    \u001b[0mcond\u001b[0m\u001b[1;33m=\u001b[0m\u001b[1;32mNone\u001b[0m\u001b[1;33m,\u001b[0m\u001b[1;33m\n",
       "\u001b[0m    \u001b[0moverwrite_a\u001b[0m\u001b[1;33m=\u001b[0m\u001b[1;32mFalse\u001b[0m\u001b[1;33m,\u001b[0m\u001b[1;33m\n",
       "\u001b[0m    \u001b[0moverwrite_b\u001b[0m\u001b[1;33m=\u001b[0m\u001b[1;32mFalse\u001b[0m\u001b[1;33m,\u001b[0m\u001b[1;33m\n",
       "\u001b[0m    \u001b[0mcheck_finite\u001b[0m\u001b[1;33m=\u001b[0m\u001b[1;32mTrue\u001b[0m\u001b[1;33m,\u001b[0m\u001b[1;33m\n",
       "\u001b[0m    \u001b[0mlapack_driver\u001b[0m\u001b[1;33m=\u001b[0m\u001b[1;32mNone\u001b[0m\u001b[1;33m,\u001b[0m\u001b[1;33m\n",
       "\u001b[0m\u001b[1;33m)\u001b[0m\u001b[1;33m\u001b[0m\u001b[1;33m\u001b[0m\u001b[0m\n",
       "\u001b[1;31mDocstring:\u001b[0m\n",
       "Compute least-squares solution to equation Ax = b.\n",
       "\n",
       "Compute a vector x such that the 2-norm ``|b - A x|`` is minimized.\n",
       "\n",
       "Parameters\n",
       "----------\n",
       "a : (M, N) array_like\n",
       "    Left-hand side array\n",
       "b : (M,) or (M, K) array_like\n",
       "    Right hand side array\n",
       "cond : float, optional\n",
       "    Cutoff for 'small' singular values; used to determine effective\n",
       "    rank of a. Singular values smaller than\n",
       "    ``rcond * largest_singular_value`` are considered zero.\n",
       "overwrite_a : bool, optional\n",
       "    Discard data in `a` (may enhance performance). Default is False.\n",
       "overwrite_b : bool, optional\n",
       "    Discard data in `b` (may enhance performance). Default is False.\n",
       "check_finite : bool, optional\n",
       "    Whether to check that the input matrices contain only finite numbers.\n",
       "    Disabling may give a performance gain, but may result in problems\n",
       "    (crashes, non-termination) if the inputs do contain infinities or NaNs.\n",
       "lapack_driver : str, optional\n",
       "    Which LAPACK driver is used to solve the least-squares problem.\n",
       "    Options are ``'gelsd'``, ``'gelsy'``, ``'gelss'``. Default\n",
       "    (``'gelsd'``) is a good choice.  However, ``'gelsy'`` can be slightly\n",
       "    faster on many problems.  ``'gelss'`` was used historically.  It is\n",
       "    generally slow but uses less memory.\n",
       "\n",
       "    .. versionadded:: 0.17.0\n",
       "\n",
       "Returns\n",
       "-------\n",
       "x : (N,) or (N, K) ndarray\n",
       "    Least-squares solution.  Return shape matches shape of `b`.\n",
       "residues : (K,) ndarray or float\n",
       "    Square of the 2-norm for each column in ``b - a x``, if ``M > N`` and\n",
       "    ``ndim(A) == n`` (returns a scalar if b is 1-D). Otherwise a\n",
       "    (0,)-shaped array is returned.\n",
       "rank : int\n",
       "    Effective rank of `a`.\n",
       "s : (min(M, N),) ndarray or None\n",
       "    Singular values of `a`. The condition number of a is\n",
       "    ``abs(s[0] / s[-1])``.\n",
       "\n",
       "Raises\n",
       "------\n",
       "LinAlgError\n",
       "    If computation does not converge.\n",
       "\n",
       "ValueError\n",
       "    When parameters are not compatible.\n",
       "\n",
       "See Also\n",
       "--------\n",
       "scipy.optimize.nnls : linear least squares with non-negativity constraint\n",
       "\n",
       "Notes\n",
       "-----\n",
       "When ``'gelsy'`` is used as a driver, `residues` is set to a (0,)-shaped\n",
       "array and `s` is always ``None``.\n",
       "\n",
       "Examples\n",
       "--------\n",
       ">>> from scipy.linalg import lstsq\n",
       ">>> import matplotlib.pyplot as plt\n",
       "\n",
       "Suppose we have the following data:\n",
       "\n",
       ">>> x = np.array([1, 2.5, 3.5, 4, 5, 7, 8.5])\n",
       ">>> y = np.array([0.3, 1.1, 1.5, 2.0, 3.2, 6.6, 8.6])\n",
       "\n",
       "We want to fit a quadratic polynomial of the form ``y = a + b*x**2``\n",
       "to this data.  We first form the \"design matrix\" M, with a constant\n",
       "column of 1s and a column containing ``x**2``:\n",
       "\n",
       ">>> M = x[:, np.newaxis]**[0, 2]\n",
       ">>> M\n",
       "array([[  1.  ,   1.  ],\n",
       "       [  1.  ,   6.25],\n",
       "       [  1.  ,  12.25],\n",
       "       [  1.  ,  16.  ],\n",
       "       [  1.  ,  25.  ],\n",
       "       [  1.  ,  49.  ],\n",
       "       [  1.  ,  72.25]])\n",
       "\n",
       "We want to find the least-squares solution to ``M.dot(p) = y``,\n",
       "where ``p`` is a vector with length 2 that holds the parameters\n",
       "``a`` and ``b``.\n",
       "\n",
       ">>> p, res, rnk, s = lstsq(M, y)\n",
       ">>> p\n",
       "array([ 0.20925829,  0.12013861])\n",
       "\n",
       "Plot the data and the fitted curve.\n",
       "\n",
       ">>> plt.plot(x, y, 'o', label='data')\n",
       ">>> xx = np.linspace(0, 9, 101)\n",
       ">>> yy = p[0] + p[1]*xx**2\n",
       ">>> plt.plot(xx, yy, label='least squares fit, $y = a + bx^2$')\n",
       ">>> plt.xlabel('x')\n",
       ">>> plt.ylabel('y')\n",
       ">>> plt.legend(framealpha=1, shadow=True)\n",
       ">>> plt.grid(alpha=0.25)\n",
       ">>> plt.show()\n",
       "\u001b[1;31mFile:\u001b[0m      m:\\programdata\\anaconda3\\lib\\site-packages\\scipy\\linalg\\basic.py\n",
       "\u001b[1;31mType:\u001b[0m      function\n"
      ]
     },
     "metadata": {},
     "output_type": "display_data"
    }
   ],
   "source": [
    "linalg.lstsq?"
   ]
  },
  {
   "cell_type": "code",
   "execution_count": 111,
   "id": "f0749bfc-040a-4c32-bc5b-bb16b5e6904c",
   "metadata": {},
   "outputs": [
    {
     "data": {
      "text/plain": [
       "array([0.1, 0.2, 0.3, 0.4, 0.5, 0.6, 0.7, 0.8, 0.9, 1. ])"
      ]
     },
     "execution_count": 111,
     "metadata": {},
     "output_type": "execute_result"
    }
   ],
   "source": [
    " \n",
    "    np.r_[0.1:1.0:10j]"
   ]
  },
  {
   "cell_type": "code",
   "execution_count": 106,
   "id": "3ae40ea4-72e5-4c18-a133-9352a8f0bcf7",
   "metadata": {},
   "outputs": [
    {
     "data": {
      "text/plain": [
       "\u001b[1;31mType:\u001b[0m        RClass\n",
       "\u001b[1;31mString form:\u001b[0m <numpy.lib.index_tricks.RClass object at 0x00000165BCFEB0A0>\n",
       "\u001b[1;31mLength:\u001b[0m      0\n",
       "\u001b[1;31mFile:\u001b[0m        m:\\programdata\\anaconda3\\lib\\site-packages\\numpy\\lib\\index_tricks.py\n",
       "\u001b[1;31mDocstring:\u001b[0m  \n",
       "Translates slice objects to concatenation along the first axis.\n",
       "\n",
       "This is a simple way to build up arrays quickly. There are two use cases.\n",
       "\n",
       "1. If the index expression contains comma separated arrays, then stack\n",
       "   them along their first axis.\n",
       "2. If the index expression contains slice notation or scalars then create\n",
       "   a 1-D array with a range indicated by the slice notation.\n",
       "\n",
       "If slice notation is used, the syntax ``start:stop:step`` is equivalent\n",
       "to ``np.arange(start, stop, step)`` inside of the brackets. However, if\n",
       "``step`` is an imaginary number (i.e. 100j) then its integer portion is\n",
       "interpreted as a number-of-points desired and the start and stop are\n",
       "inclusive. In other words ``start:stop:stepj`` is interpreted as\n",
       "``np.linspace(start, stop, step, endpoint=1)`` inside of the brackets.\n",
       "After expansion of slice notation, all comma separated sequences are\n",
       "concatenated together.\n",
       "\n",
       "Optional character strings placed as the first element of the index\n",
       "expression can be used to change the output. The strings 'r' or 'c' result\n",
       "in matrix output. If the result is 1-D and 'r' is specified a 1 x N (row)\n",
       "matrix is produced. If the result is 1-D and 'c' is specified, then a N x 1\n",
       "(column) matrix is produced. If the result is 2-D then both provide the\n",
       "same matrix result.\n",
       "\n",
       "A string integer specifies which axis to stack multiple comma separated\n",
       "arrays along. A string of two comma-separated integers allows indication\n",
       "of the minimum number of dimensions to force each entry into as the\n",
       "second integer (the axis to concatenate along is still the first integer).\n",
       "\n",
       "A string with three comma-separated integers allows specification of the\n",
       "axis to concatenate along, the minimum number of dimensions to force the\n",
       "entries to, and which axis should contain the start of the arrays which\n",
       "are less than the specified number of dimensions. In other words the third\n",
       "integer allows you to specify where the 1's should be placed in the shape\n",
       "of the arrays that have their shapes upgraded. By default, they are placed\n",
       "in the front of the shape tuple. The third argument allows you to specify\n",
       "where the start of the array should be instead. Thus, a third argument of\n",
       "'0' would place the 1's at the end of the array shape. Negative integers\n",
       "specify where in the new shape tuple the last dimension of upgraded arrays\n",
       "should be placed, so the default is '-1'.\n",
       "\n",
       "Parameters\n",
       "----------\n",
       "Not a function, so takes no parameters\n",
       "\n",
       "\n",
       "Returns\n",
       "-------\n",
       "A concatenated ndarray or matrix.\n",
       "\n",
       "See Also\n",
       "--------\n",
       "concatenate : Join a sequence of arrays along an existing axis.\n",
       "c_ : Translates slice objects to concatenation along the second axis.\n",
       "\n",
       "Examples\n",
       "--------\n",
       ">>> np.r_[np.array([1,2,3]), 0, 0, np.array([4,5,6])]\n",
       "array([1, 2, 3, ..., 4, 5, 6])\n",
       ">>> np.r_[-1:1:6j, [0]*3, 5, 6]\n",
       "array([-1. , -0.6, -0.2,  0.2,  0.6,  1. ,  0. ,  0. ,  0. ,  5. ,  6. ])\n",
       "\n",
       "String integers specify the axis to concatenate along or the minimum\n",
       "number of dimensions to force entries into.\n",
       "\n",
       ">>> a = np.array([[0, 1, 2], [3, 4, 5]])\n",
       ">>> np.r_['-1', a, a] # concatenate along last axis\n",
       "array([[0, 1, 2, 0, 1, 2],\n",
       "       [3, 4, 5, 3, 4, 5]])\n",
       ">>> np.r_['0,2', [1,2,3], [4,5,6]] # concatenate along first axis, dim>=2\n",
       "array([[1, 2, 3],\n",
       "       [4, 5, 6]])\n",
       "\n",
       ">>> np.r_['0,2,0', [1,2,3], [4,5,6]]\n",
       "array([[1],\n",
       "       [2],\n",
       "       [3],\n",
       "       [4],\n",
       "       [5],\n",
       "       [6]])\n",
       ">>> np.r_['1,2,0', [1,2,3], [4,5,6]]\n",
       "array([[1, 4],\n",
       "       [2, 5],\n",
       "       [3, 6]])\n",
       "\n",
       "Using 'r' or 'c' as a first string argument creates a matrix.\n",
       "\n",
       ">>> np.r_['r',[1,2,3], [4,5,6]]\n",
       "matrix([[1, 2, 3, 4, 5, 6]])\n"
      ]
     },
     "metadata": {},
     "output_type": "display_data"
    }
   ],
   "source": [
    "np.r_?"
   ]
  },
  {
   "cell_type": "code",
   "execution_count": 112,
   "id": "b5e3a3d5-1e71-40d1-b623-318f315b3ccf",
   "metadata": {},
   "outputs": [
    {
     "data": {
      "text/plain": [
       "\u001b[1;31mType:\u001b[0m        RClass\n",
       "\u001b[1;31mString form:\u001b[0m <numpy.lib.index_tricks.RClass object at 0x00000165BCFEB0A0>\n",
       "\u001b[1;31mLength:\u001b[0m      0\n",
       "\u001b[1;31mFile:\u001b[0m        m:\\programdata\\anaconda3\\lib\\site-packages\\numpy\\lib\\index_tricks.py\n",
       "\u001b[1;31mDocstring:\u001b[0m  \n",
       "Translates slice objects to concatenation along the first axis.\n",
       "\n",
       "This is a simple way to build up arrays quickly. There are two use cases.\n",
       "\n",
       "1. If the index expression contains comma separated arrays, then stack\n",
       "   them along their first axis.\n",
       "2. If the index expression contains slice notation or scalars then create\n",
       "   a 1-D array with a range indicated by the slice notation.\n",
       "\n",
       "If slice notation is used, the syntax ``start:stop:step`` is equivalent\n",
       "to ``np.arange(start, stop, step)`` inside of the brackets. However, if\n",
       "``step`` is an imaginary number (i.e. 100j) then its integer portion is\n",
       "interpreted as a number-of-points desired and the start and stop are\n",
       "inclusive. In other words ``start:stop:stepj`` is interpreted as\n",
       "``np.linspace(start, stop, step, endpoint=1)`` inside of the brackets.\n",
       "After expansion of slice notation, all comma separated sequences are\n",
       "concatenated together.\n",
       "\n",
       "Optional character strings placed as the first element of the index\n",
       "expression can be used to change the output. The strings 'r' or 'c' result\n",
       "in matrix output. If the result is 1-D and 'r' is specified a 1 x N (row)\n",
       "matrix is produced. If the result is 1-D and 'c' is specified, then a N x 1\n",
       "(column) matrix is produced. If the result is 2-D then both provide the\n",
       "same matrix result.\n",
       "\n",
       "A string integer specifies which axis to stack multiple comma separated\n",
       "arrays along. A string of two comma-separated integers allows indication\n",
       "of the minimum number of dimensions to force each entry into as the\n",
       "second integer (the axis to concatenate along is still the first integer).\n",
       "\n",
       "A string with three comma-separated integers allows specification of the\n",
       "axis to concatenate along, the minimum number of dimensions to force the\n",
       "entries to, and which axis should contain the start of the arrays which\n",
       "are less than the specified number of dimensions. In other words the third\n",
       "integer allows you to specify where the 1's should be placed in the shape\n",
       "of the arrays that have their shapes upgraded. By default, they are placed\n",
       "in the front of the shape tuple. The third argument allows you to specify\n",
       "where the start of the array should be instead. Thus, a third argument of\n",
       "'0' would place the 1's at the end of the array shape. Negative integers\n",
       "specify where in the new shape tuple the last dimension of upgraded arrays\n",
       "should be placed, so the default is '-1'.\n",
       "\n",
       "Parameters\n",
       "----------\n",
       "Not a function, so takes no parameters\n",
       "\n",
       "\n",
       "Returns\n",
       "-------\n",
       "A concatenated ndarray or matrix.\n",
       "\n",
       "See Also\n",
       "--------\n",
       "concatenate : Join a sequence of arrays along an existing axis.\n",
       "c_ : Translates slice objects to concatenation along the second axis.\n",
       "\n",
       "Examples\n",
       "--------\n",
       ">>> np.r_[np.array([1,2,3]), 0, 0, np.array([4,5,6])]\n",
       "array([1, 2, 3, ..., 4, 5, 6])\n",
       ">>> np.r_[-1:1:6j, [0]*3, 5, 6]\n",
       "array([-1. , -0.6, -0.2,  0.2,  0.6,  1. ,  0. ,  0. ,  0. ,  5. ,  6. ])\n",
       "\n",
       "String integers specify the axis to concatenate along or the minimum\n",
       "number of dimensions to force entries into.\n",
       "\n",
       ">>> a = np.array([[0, 1, 2], [3, 4, 5]])\n",
       ">>> np.r_['-1', a, a] # concatenate along last axis\n",
       "array([[0, 1, 2, 0, 1, 2],\n",
       "       [3, 4, 5, 3, 4, 5]])\n",
       ">>> np.r_['0,2', [1,2,3], [4,5,6]] # concatenate along first axis, dim>=2\n",
       "array([[1, 2, 3],\n",
       "       [4, 5, 6]])\n",
       "\n",
       ">>> np.r_['0,2,0', [1,2,3], [4,5,6]]\n",
       "array([[1],\n",
       "       [2],\n",
       "       [3],\n",
       "       [4],\n",
       "       [5],\n",
       "       [6]])\n",
       ">>> np.r_['1,2,0', [1,2,3], [4,5,6]]\n",
       "array([[1, 4],\n",
       "       [2, 5],\n",
       "       [3, 6]])\n",
       "\n",
       "Using 'r' or 'c' as a first string argument creates a matrix.\n",
       "\n",
       ">>> np.r_['r',[1,2,3], [4,5,6]]\n",
       "matrix([[1, 2, 3, 4, 5, 6]])\n"
      ]
     },
     "metadata": {},
     "output_type": "display_data"
    }
   ],
   "source": [
    "np.r_?"
   ]
  },
  {
   "cell_type": "code",
   "execution_count": 122,
   "id": "e66b5d46-bb4e-4a97-bcc4-dadc7c3cb960",
   "metadata": {},
   "outputs": [
    {
     "data": {
      "text/plain": [
       "\u001b[1;31mType:\u001b[0m        NoneType\n",
       "\u001b[1;31mString form:\u001b[0m None\n",
       "\u001b[1;31mDocstring:\u001b[0m   <no docstring>\n"
      ]
     },
     "metadata": {},
     "output_type": "display_data"
    }
   ],
   "source": []
  },
  {
   "cell_type": "code",
   "execution_count": 123,
   "id": "a1c5e6c2-dd3c-46ea-883e-e5c86e4d9287",
   "metadata": {},
   "outputs": [
    {
     "data": {
      "text/plain": [
       "\u001b[1;31mSignature:\u001b[0m \u001b[0mnp\u001b[0m\u001b[1;33m.\u001b[0m\u001b[0mlinalg\u001b[0m\u001b[1;33m.\u001b[0m\u001b[0mlstsq\u001b[0m\u001b[1;33m(\u001b[0m\u001b[0ma\u001b[0m\u001b[1;33m,\u001b[0m \u001b[0mb\u001b[0m\u001b[1;33m,\u001b[0m \u001b[0mrcond\u001b[0m\u001b[1;33m=\u001b[0m\u001b[1;34m'warn'\u001b[0m\u001b[1;33m)\u001b[0m\u001b[1;33m\u001b[0m\u001b[1;33m\u001b[0m\u001b[0m\n",
       "\u001b[1;31mDocstring:\u001b[0m\n",
       "Return the least-squares solution to a linear matrix equation.\n",
       "\n",
       "Computes the vector x that approximatively solves the equation\n",
       "``a @ x = b``. The equation may be under-, well-, or over-determined\n",
       "(i.e., the number of linearly independent rows of `a` can be less than,\n",
       "equal to, or greater than its number of linearly independent columns).\n",
       "If `a` is square and of full rank, then `x` (but for round-off error)\n",
       "is the \"exact\" solution of the equation. Else, `x` minimizes the\n",
       "Euclidean 2-norm :math:`|| b - a x ||`.\n",
       "\n",
       "Parameters\n",
       "----------\n",
       "a : (M, N) array_like\n",
       "    \"Coefficient\" matrix.\n",
       "b : {(M,), (M, K)} array_like\n",
       "    Ordinate or \"dependent variable\" values. If `b` is two-dimensional,\n",
       "    the least-squares solution is calculated for each of the `K` columns\n",
       "    of `b`.\n",
       "rcond : float, optional\n",
       "    Cut-off ratio for small singular values of `a`.\n",
       "    For the purposes of rank determination, singular values are treated\n",
       "    as zero if they are smaller than `rcond` times the largest singular\n",
       "    value of `a`.\n",
       "\n",
       "    .. versionchanged:: 1.14.0\n",
       "       If not set, a FutureWarning is given. The previous default\n",
       "       of ``-1`` will use the machine precision as `rcond` parameter,\n",
       "       the new default will use the machine precision times `max(M, N)`.\n",
       "       To silence the warning and use the new default, use ``rcond=None``,\n",
       "       to keep using the old behavior, use ``rcond=-1``.\n",
       "\n",
       "Returns\n",
       "-------\n",
       "x : {(N,), (N, K)} ndarray\n",
       "    Least-squares solution. If `b` is two-dimensional,\n",
       "    the solutions are in the `K` columns of `x`.\n",
       "residuals : {(1,), (K,), (0,)} ndarray\n",
       "    Sums of squared residuals: Squared Euclidean 2-norm for each column in\n",
       "    ``b - a @ x``.\n",
       "    If the rank of `a` is < N or M <= N, this is an empty array.\n",
       "    If `b` is 1-dimensional, this is a (1,) shape array.\n",
       "    Otherwise the shape is (K,).\n",
       "rank : int\n",
       "    Rank of matrix `a`.\n",
       "s : (min(M, N),) ndarray\n",
       "    Singular values of `a`.\n",
       "\n",
       "Raises\n",
       "------\n",
       "LinAlgError\n",
       "    If computation does not converge.\n",
       "\n",
       "See Also\n",
       "--------\n",
       "scipy.linalg.lstsq : Similar function in SciPy.\n",
       "\n",
       "Notes\n",
       "-----\n",
       "If `b` is a matrix, then all array results are returned as matrices.\n",
       "\n",
       "Examples\n",
       "--------\n",
       "Fit a line, ``y = mx + c``, through some noisy data-points:\n",
       "\n",
       ">>> x = np.array([0, 1, 2, 3])\n",
       ">>> y = np.array([-1, 0.2, 0.9, 2.1])\n",
       "\n",
       "By examining the coefficients, we see that the line should have a\n",
       "gradient of roughly 1 and cut the y-axis at, more or less, -1.\n",
       "\n",
       "We can rewrite the line equation as ``y = Ap``, where ``A = [[x 1]]``\n",
       "and ``p = [[m], [c]]``.  Now use `lstsq` to solve for `p`:\n",
       "\n",
       ">>> A = np.vstack([x, np.ones(len(x))]).T\n",
       ">>> A\n",
       "array([[ 0.,  1.],\n",
       "       [ 1.,  1.],\n",
       "       [ 2.,  1.],\n",
       "       [ 3.,  1.]])\n",
       "\n",
       ">>> m, c = np.linalg.lstsq(A, y, rcond=None)[0]\n",
       ">>> m, c\n",
       "(1.0 -0.95) # may vary\n",
       "\n",
       "Plot the data along with the fitted line:\n",
       "\n",
       ">>> import matplotlib.pyplot as plt\n",
       ">>> _ = plt.plot(x, y, 'o', label='Original data', markersize=10)\n",
       ">>> _ = plt.plot(x, m*x + c, 'r', label='Fitted line')\n",
       ">>> _ = plt.legend()\n",
       ">>> plt.show()\n",
       "\u001b[1;31mFile:\u001b[0m      m:\\programdata\\anaconda3\\lib\\site-packages\\numpy\\linalg\\linalg.py\n",
       "\u001b[1;31mType:\u001b[0m      function\n"
      ]
     },
     "metadata": {},
     "output_type": "display_data"
    }
   ],
   "source": [
    "np.linalg.lstsq?"
   ]
  },
  {
   "cell_type": "markdown",
   "id": "52d12585-46e5-42c0-b5df-6e848f7d9052",
   "metadata": {},
   "source": [
    "#  the least-squares solution to a linear matrix equation\n",
    "\n",
    "- https://numpy.org/doc/stable/reference/generated/numpy.linalg.lstsq.html\n",
    "    "
   ]
  },
  {
   "cell_type": "code",
   "execution_count": 125,
   "id": "84bbee78-1377-4244-9f47-c304cf357d25",
   "metadata": {},
   "outputs": [
    {
     "data": {
      "text/plain": [
       "array([[0., 1.],\n",
       "       [1., 1.],\n",
       "       [2., 1.],\n",
       "       [3., 1.]])"
      ]
     },
     "execution_count": 125,
     "metadata": {},
     "output_type": "execute_result"
    }
   ],
   "source": [
    "x= np.array([ 0,  1,   2,    3])\n",
    "y= np.array([-1,  0.2, 0.9,  2.1])\n",
    "\n",
    "A = np.vstack([x, np.ones(len(x))]).T\n",
    "A"
   ]
  },
  {
   "cell_type": "code",
   "execution_count": 129,
   "id": "f186a41e-6403-4195-b6b4-6d7ec0942e60",
   "metadata": {},
   "outputs": [
    {
     "name": "stderr",
     "output_type": "stream",
     "text": [
      "<ipython-input-129-3573b3d582a7>:1: FutureWarning: `rcond` parameter will change to the default of machine precision times ``max(M, N)`` where M and N are the input matrix dimensions.\n",
      "To use the future default and silence this warning we advise to pass `rcond=None`, to keep using the old, explicitly pass `rcond=-1`.\n",
      "  np.linalg.lstsq(A, y) #, rcond=None) #[0]\n"
     ]
    },
    {
     "data": {
      "text/plain": [
       "(array([ 1.  , -0.95]), array([0.05]), 2, array([4.10003045, 1.09075677]))"
      ]
     },
     "execution_count": 129,
     "metadata": {},
     "output_type": "execute_result"
    }
   ],
   "source": [
    "np.linalg.lstsq(A, y) #, rcond=None) #[0]\n",
    "#m, c"
   ]
  },
  {
   "cell_type": "code",
   "execution_count": 124,
   "id": "d94e1851-50d3-4442-85e8-79c2272d11ce",
   "metadata": {},
   "outputs": [
    {
     "data": {
      "image/png": "[encoded data removed]",
      "text/plain": [
       "<Figure size 432x288 with 1 Axes>"
      ]
     },
     "metadata": {
      "needs_background": "light"
     },
     "output_type": "display_data"
    }
   ],
   "source": [
    "import matplotlib.pyplot as plt\n",
    "_ = plt.plot(x, y, 'o', label='Original data', markersize=10)\n",
    "_ = plt.plot(x, m*x + c, 'r', label='Fitted line')\n",
    "_ = plt.legend()\n",
    "plt.show()"
   ]
  },
  {
   "cell_type": "code",
   "execution_count": 130,
   "id": "74f042aa-59bd-46e2-8b59-01b25de46566",
   "metadata": {},
   "outputs": [
    {
     "data": {
      "text/plain": [
       "\u001b[1;31mSignature:\u001b[0m \u001b[0mnp\u001b[0m\u001b[1;33m.\u001b[0m\u001b[0mlinalg\u001b[0m\u001b[1;33m.\u001b[0m\u001b[0mlstsq\u001b[0m\u001b[1;33m(\u001b[0m\u001b[0ma\u001b[0m\u001b[1;33m,\u001b[0m \u001b[0mb\u001b[0m\u001b[1;33m,\u001b[0m \u001b[0mrcond\u001b[0m\u001b[1;33m=\u001b[0m\u001b[1;34m'warn'\u001b[0m\u001b[1;33m)\u001b[0m\u001b[1;33m\u001b[0m\u001b[1;33m\u001b[0m\u001b[0m\n",
       "\u001b[1;31mDocstring:\u001b[0m\n",
       "Return the least-squares solution to a linear matrix equation.\n",
       "\n",
       "Computes the vector x that approximatively solves the equation\n",
       "``a @ x = b``. The equation may be under-, well-, or over-determined\n",
       "(i.e., the number of linearly independent rows of `a` can be less than,\n",
       "equal to, or greater than its number of linearly independent columns).\n",
       "If `a` is square and of full rank, then `x` (but for round-off error)\n",
       "is the \"exact\" solution of the equation. Else, `x` minimizes the\n",
       "Euclidean 2-norm :math:`|| b - a x ||`.\n",
       "\n",
       "Parameters\n",
       "----------\n",
       "a : (M, N) array_like\n",
       "    \"Coefficient\" matrix.\n",
       "b : {(M,), (M, K)} array_like\n",
       "    Ordinate or \"dependent variable\" values. If `b` is two-dimensional,\n",
       "    the least-squares solution is calculated for each of the `K` columns\n",
       "    of `b`.\n",
       "rcond : float, optional\n",
       "    Cut-off ratio for small singular values of `a`.\n",
       "    For the purposes of rank determination, singular values are treated\n",
       "    as zero if they are smaller than `rcond` times the largest singular\n",
       "    value of `a`.\n",
       "\n",
       "    .. versionchanged:: 1.14.0\n",
       "       If not set, a FutureWarning is given. The previous default\n",
       "       of ``-1`` will use the machine precision as `rcond` parameter,\n",
       "       the new default will use the machine precision times `max(M, N)`.\n",
       "       To silence the warning and use the new default, use ``rcond=None``,\n",
       "       to keep using the old behavior, use ``rcond=-1``.\n",
       "\n",
       "Returns\n",
       "-------\n",
       "x : {(N,), (N, K)} ndarray\n",
       "    Least-squares solution. If `b` is two-dimensional,\n",
       "    the solutions are in the `K` columns of `x`.\n",
       "residuals : {(1,), (K,), (0,)} ndarray\n",
       "    Sums of squared residuals: Squared Euclidean 2-norm for each column in\n",
       "    ``b - a @ x``.\n",
       "    If the rank of `a` is < N or M <= N, this is an empty array.\n",
       "    If `b` is 1-dimensional, this is a (1,) shape array.\n",
       "    Otherwise the shape is (K,).\n",
       "rank : int\n",
       "    Rank of matrix `a`.\n",
       "s : (min(M, N),) ndarray\n",
       "    Singular values of `a`.\n",
       "\n",
       "Raises\n",
       "------\n",
       "LinAlgError\n",
       "    If computation does not converge.\n",
       "\n",
       "See Also\n",
       "--------\n",
       "scipy.linalg.lstsq : Similar function in SciPy.\n",
       "\n",
       "Notes\n",
       "-----\n",
       "If `b` is a matrix, then all array results are returned as matrices.\n",
       "\n",
       "Examples\n",
       "--------\n",
       "Fit a line, ``y = mx + c``, through some noisy data-points:\n",
       "\n",
       ">>> x = np.array([0, 1, 2, 3])\n",
       ">>> y = np.array([-1, 0.2, 0.9, 2.1])\n",
       "\n",
       "By examining the coefficients, we see that the line should have a\n",
       "gradient of roughly 1 and cut the y-axis at, more or less, -1.\n",
       "\n",
       "We can rewrite the line equation as ``y = Ap``, where ``A = [[x 1]]``\n",
       "and ``p = [[m], [c]]``.  Now use `lstsq` to solve for `p`:\n",
       "\n",
       ">>> A = np.vstack([x, np.ones(len(x))]).T\n",
       ">>> A\n",
       "array([[ 0.,  1.],\n",
       "       [ 1.,  1.],\n",
       "       [ 2.,  1.],\n",
       "       [ 3.,  1.]])\n",
       "\n",
       ">>> m, c = np.linalg.lstsq(A, y, rcond=None)[0]\n",
       ">>> m, c\n",
       "(1.0 -0.95) # may vary\n",
       "\n",
       "Plot the data along with the fitted line:\n",
       "\n",
       ">>> import matplotlib.pyplot as plt\n",
       ">>> _ = plt.plot(x, y, 'o', label='Original data', markersize=10)\n",
       ">>> _ = plt.plot(x, m*x + c, 'r', label='Fitted line')\n",
       ">>> _ = plt.legend()\n",
       ">>> plt.show()\n",
       "\u001b[1;31mFile:\u001b[0m      m:\\programdata\\anaconda3\\lib\\site-packages\\numpy\\linalg\\linalg.py\n",
       "\u001b[1;31mType:\u001b[0m      function\n"
      ]
     },
     "metadata": {},
     "output_type": "display_data"
    }
   ],
   "source": [
    "np.linalg.lstsq?"
   ]
  },
  {
   "cell_type": "code",
   "execution_count": null,
   "id": "5c02c087-e4ed-4334-829e-48a45bc1a7bb",
   "metadata": {},
   "outputs": [],
   "source": []
  }
 ],
 "metadata": {
  "kernelspec": {
   "display_name": "Python 3",
   "language": "python",
   "name": "python3"
  },
  "language_info": {
   "codemirror_mode": {
    "name": "ipython",
    "version": 3
   },
   "file_extension": ".py",
   "mimetype": "text/x-python",
   "name": "python",
   "nbconvert_exporter": "python",
   "pygments_lexer": "ipython3",
   "version": "3.8.8"
  }
 },
 "nbformat": 4,
 "nbformat_minor": 5
}
