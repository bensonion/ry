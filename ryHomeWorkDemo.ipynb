{
 "cells": [
  {
   "cell_type": "markdown",
   "id": "b76e1384-f318-491c-9097-4fc7698cd658",
   "metadata": {},
   "source": [
    "# HomeWork 示範：\n"
   ]
  },
  {
   "cell_type": "markdown",
   "id": "364bb9f8-a7e6-4935-ad6f-b458b9168113",
   "metadata": {},
   "source": [
    "## Exercises\n",
    "\n",
    "1. Compute the LU decomposition of the following matrix by hand and using numpy\n",
    "\n",
    "A= [[1,  2,  3],\n",
    "    [2, -4,  6],\n",
    "    [3, -9, -3]]\n",
    "\n",
    "- 運用 TeX 語法，使數學符號更漂亮一點：\n",
    "\n",
    "$\n",
    "A=\n",
    "\\left[\n",
    "\\begin{matrix} \n",
    "1 &  2 & 3   \\\\\n",
    "2 & -4 & 6   \\\\\n",
    "3 & -9 & -3\n",
    "\\end{matrix}\n",
    "\\right]\n",
    "$\n"
   ]
  },
  {
   "cell_type": "code",
   "execution_count": 11,
   "id": "5f6d81fd-b86b-49e1-a0f6-ffbcca91e6f8",
   "metadata": {},
   "outputs": [],
   "source": [
    "import numpy as np\n",
    "import scipy.linalg as sp_linalg\n"
   ]
  },
  {
   "cell_type": "code",
   "execution_count": 2,
   "id": "89bda29c-8171-40e3-a5c5-40b4af577dd2",
   "metadata": {},
   "outputs": [
    {
     "data": {
      "text/plain": [
       "array([[ 1,  2,  3],\n",
       "       [ 2, -4,  6],\n",
       "       [ 3, -9, -3]])"
      ]
     },
     "execution_count": 2,
     "metadata": {},
     "output_type": "execute_result"
    }
   ],
   "source": [
    "A= [[1,  2,  3],\n",
    "    [2, -4,  6],\n",
    "    [3, -9, -3]]\n",
    "A= np.array(A)\n",
    "A"
   ]
  },
  {
   "cell_type": "code",
   "execution_count": 4,
   "id": "59afeb31-89f3-48b3-b060-d97046242fe4",
   "metadata": {},
   "outputs": [
    {
     "data": {
      "text/plain": [
       "(array([[0., 1., 0.],\n",
       "        [0., 0., 1.],\n",
       "        [1., 0., 0.]]),\n",
       " array([[1.        , 0.        , 0.        ],\n",
       "        [0.33333333, 1.        , 0.        ],\n",
       "        [0.66666667, 0.4       , 1.        ]]),\n",
       " array([[ 3. , -9. , -3. ],\n",
       "        [ 0. ,  5. ,  4. ],\n",
       "        [ 0. ,  0. ,  6.4]]))"
      ]
     },
     "execution_count": 4,
     "metadata": {},
     "output_type": "execute_result"
    }
   ],
   "source": [
    "P,L,U= sp_linalg.lu(A)\n",
    "P, L, U"
   ]
  },
  {
   "cell_type": "code",
   "execution_count": 5,
   "id": "94c7ba9f-2080-4290-a18b-3b55b8d96b72",
   "metadata": {},
   "outputs": [
    {
     "data": {
      "text/plain": [
       "array([[ 1.,  2.,  3.],\n",
       "       [ 2., -4.,  6.],\n",
       "       [ 3., -9., -3.]])"
      ]
     },
     "execution_count": 5,
     "metadata": {},
     "output_type": "execute_result"
    }
   ],
   "source": [
    "# 驗算\n",
    "P@L@U"
   ]
  },
  {
   "cell_type": "code",
   "execution_count": 9,
   "id": "859ee66a-cde8-4294-b265-b8562493eaa4",
   "metadata": {},
   "outputs": [],
   "source": [
    "assert (A==P@L@U).all()"
   ]
  },
  {
   "cell_type": "code",
   "execution_count": 8,
   "id": "4e2a2bd8-a88e-4a42-9cfe-64c418dbe7d5",
   "metadata": {},
   "outputs": [],
   "source": [
    "assert np.allclose(A, P@L@U)"
   ]
  },
  {
   "cell_type": "code",
   "execution_count": null,
   "id": "9547de71-4be3-4ade-ad9f-ad43f5195045",
   "metadata": {},
   "outputs": [],
   "source": []
  }
 ],
 "metadata": {
  "kernelspec": {
   "display_name": "Python 3",
   "language": "python",
   "name": "python3"
  },
  "language_info": {
   "codemirror_mode": {
    "name": "ipython",
    "version": 3
   },
   "file_extension": ".py",
   "mimetype": "text/x-python",
   "name": "python",
   "nbconvert_exporter": "python",
   "pygments_lexer": "ipython3",
   "version": "3.8.8"
  }
 },
 "nbformat": 4,
 "nbformat_minor": 5
}
